{
 "cells": [
  {
   "cell_type": "code",
   "execution_count": 1,
   "metadata": {
    "_cell_guid": "b1076dfc-b9ad-4769-8c92-a6c4dae69d19",
    "_uuid": "8f2839f25d086af736a60e9eeb907d3b93b6e0e5"
   },
   "outputs": [],
   "source": [
    "%matplotlib inline\n",
    "import matplotlib.pyplot as plt\n",
    "import numpy as np\n",
    "\n",
    "import sys\n",
    "sys.path.append('../src/')\n",
    "\n",
    "import unet\n",
    "from unet import utils\n",
    "from unet.datasets import circles"
   ]
  },
  {
   "cell_type": "code",
   "execution_count": 2,
   "metadata": {},
   "outputs": [],
   "source": [
    "train_dataset, validation_dataset = circles.load_data(100, nx=200, ny=200, splits=(0.7, 0.3))"
   ]
  },
  {
   "cell_type": "code",
   "execution_count": 3,
   "metadata": {},
   "outputs": [],
   "source": [
    "from tensorflow.python import ipu\n",
    "\n",
    "cfg = ipu.config.IPUConfig()\n",
    "cfg.auto_select_ipus = 1\n",
    "cfg.configure_ipu_system()"
   ]
  },
  {
   "cell_type": "code",
   "execution_count": 5,
   "metadata": {
    "_cell_guid": "79c7e3d0-c299-4dcb-8224-4455121ee9b0",
    "_uuid": "d629ff2d2480ee46fbb7e2d37f6b5fab8052498a",
    "scrolled": false
   },
   "outputs": [
    {
     "name": "stdout",
     "output_type": "stream",
     "text": [
      "INFO:tensorflow:The model `unet` has been configured with only 1 steps per execution. Consider increasing the value for the `steps_per_execution` argument passed to the `compile()` method to improve performance.\n",
      "Epoch 1/5\n",
      "61/70 [=========================>....] - ETA: 0s - loss: 0.5360 - categorical_crossentropy: 0.5360 - categorical_accuracy: 0.9005 - mean_iou: 0.3361 - dice_coefficient: 0.6414 - auc_1: 0.8523INFO:tensorflow:The model `unet` has been configured with only 1 steps per execution. Consider increasing the value for the `steps_per_execution` argument passed to the `compile()` method to improve performance.\n",
      "70/70 [==============================] - 4s 28ms/step - loss: 0.5148 - categorical_crossentropy: 0.5148 - categorical_accuracy: 0.9057 - mean_iou: 0.3448 - dice_coefficient: 0.6593 - auc_1: 0.8646 - val_loss: 0.3309 - val_categorical_crossentropy: 0.3309 - val_categorical_accuracy: 0.9565 - val_mean_iou: 0.3849 - val_dice_coefficient: 0.7285 - val_auc_1: 0.9933\n",
      "INFO:tensorflow:The model `unet` has been configured with only 1 steps per execution. Consider increasing the value for the `steps_per_execution` argument passed to the `compile()` method to improve performance.\n",
      "INFO:tensorflow:The model `unet` has been configured with only 1 steps per execution. Consider increasing the value for the `steps_per_execution` argument passed to the `compile()` method to improve performance.\n",
      "INFO:tensorflow:The model `unet` has been configured with only 1 steps per execution. Consider increasing the value for the `steps_per_execution` argument passed to the `compile()` method to improve performance.\n",
      "Epoch 2/5\n",
      "65/70 [==========================>...] - ETA: 0s - loss: 0.1826 - categorical_crossentropy: 0.1826 - categorical_accuracy: 0.9497 - mean_iou: 0.4995 - dice_coefficient: 0.9020 - auc_1: 0.9759INFO:tensorflow:The model `unet` has been configured with only 1 steps per execution. Consider increasing the value for the `steps_per_execution` argument passed to the `compile()` method to improve performance.\n",
      "70/70 [==============================] - 2s 23ms/step - loss: 0.1800 - categorical_crossentropy: 0.1800 - categorical_accuracy: 0.9499 - mean_iou: 0.5022 - dice_coefficient: 0.9035 - auc_1: 0.9766 - val_loss: 0.0938 - val_categorical_crossentropy: 0.0938 - val_categorical_accuracy: 0.9565 - val_mean_iou: 0.5629 - val_dice_coefficient: 0.9327 - val_auc_1: 0.9952\n",
      "INFO:tensorflow:The model `unet` has been configured with only 1 steps per execution. Consider increasing the value for the `steps_per_execution` argument passed to the `compile()` method to improve performance.\n",
      "INFO:tensorflow:The model `unet` has been configured with only 1 steps per execution. Consider increasing the value for the `steps_per_execution` argument passed to the `compile()` method to improve performance.\n",
      "INFO:tensorflow:The model `unet` has been configured with only 1 steps per execution. Consider increasing the value for the `steps_per_execution` argument passed to the `compile()` method to improve performance.\n",
      "Epoch 3/5\n",
      "70/70 [==============================] - ETA: 0s - loss: 0.1160 - categorical_crossentropy: 0.1160 - categorical_accuracy: 0.9499 - mean_iou: 0.5816 - dice_coefficient: 0.9362 - auc_1: 0.9900INFO:tensorflow:The model `unet` has been configured with only 1 steps per execution. Consider increasing the value for the `steps_per_execution` argument passed to the `compile()` method to improve performance.\n",
      "70/70 [==============================] - 2s 22ms/step - loss: 0.1159 - categorical_crossentropy: 0.1159 - categorical_accuracy: 0.9499 - mean_iou: 0.5816 - dice_coefficient: 0.9363 - auc_1: 0.9901 - val_loss: 0.0794 - val_categorical_crossentropy: 0.0794 - val_categorical_accuracy: 0.9565 - val_mean_iou: 0.5966 - val_dice_coefficient: 0.9443 - val_auc_1: 0.9959\n",
      "INFO:tensorflow:The model `unet` has been configured with only 1 steps per execution. Consider increasing the value for the `steps_per_execution` argument passed to the `compile()` method to improve performance.\n",
      "INFO:tensorflow:The model `unet` has been configured with only 1 steps per execution. Consider increasing the value for the `steps_per_execution` argument passed to the `compile()` method to improve performance.\n",
      "INFO:tensorflow:The model `unet` has been configured with only 1 steps per execution. Consider increasing the value for the `steps_per_execution` argument passed to the `compile()` method to improve performance.\n",
      "Epoch 4/5\n",
      "69/70 [============================>.] - ETA: 0s - loss: 0.1085 - categorical_crossentropy: 0.1085 - categorical_accuracy: 0.9581 - mean_iou: 0.6025 - dice_coefficient: 0.9422 - auc_1: 0.9914INFO:tensorflow:The model `unet` has been configured with only 1 steps per execution. Consider increasing the value for the `steps_per_execution` argument passed to the `compile()` method to improve performance.\n",
      "70/70 [==============================] - 2s 22ms/step - loss: 0.1083 - categorical_crossentropy: 0.1083 - categorical_accuracy: 0.9584 - mean_iou: 0.6029 - dice_coefficient: 0.9423 - auc_1: 0.9914 - val_loss: 0.0791 - val_categorical_crossentropy: 0.0791 - val_categorical_accuracy: 0.9820 - val_mean_iou: 0.6295 - val_dice_coefficient: 0.9409 - val_auc_1: 0.9967\n",
      "INFO:tensorflow:The model `unet` has been configured with only 1 steps per execution. Consider increasing the value for the `steps_per_execution` argument passed to the `compile()` method to improve performance.\n",
      "INFO:tensorflow:The model `unet` has been configured with only 1 steps per execution. Consider increasing the value for the `steps_per_execution` argument passed to the `compile()` method to improve performance.\n",
      "INFO:tensorflow:The model `unet` has been configured with only 1 steps per execution. Consider increasing the value for the `steps_per_execution` argument passed to the `compile()` method to improve performance.\n",
      "Epoch 5/5\n",
      "66/70 [===========================>..] - ETA: 0s - loss: 0.0887 - categorical_crossentropy: 0.0887 - categorical_accuracy: 0.9808 - mean_iou: 0.6832 - dice_coefficient: 0.9538 - auc_1: 0.9928INFO:tensorflow:The model `unet` has been configured with only 1 steps per execution. Consider increasing the value for the `steps_per_execution` argument passed to the `compile()` method to improve performance.\n",
      "70/70 [==============================] - 3s 24ms/step - loss: 0.0886 - categorical_crossentropy: 0.0886 - categorical_accuracy: 0.9808 - mean_iou: 0.6836 - dice_coefficient: 0.9540 - auc_1: 0.9928 - val_loss: 0.0560 - val_categorical_crossentropy: 0.0560 - val_categorical_accuracy: 0.9854 - val_mean_iou: 0.7291 - val_dice_coefficient: 0.9653 - val_auc_1: 0.9972\n",
      "INFO:tensorflow:The model `unet` has been configured with only 1 steps per execution. Consider increasing the value for the `steps_per_execution` argument passed to the `compile()` method to improve performance.\n",
      "INFO:tensorflow:The model `unet` has been configured with only 1 steps per execution. Consider increasing the value for the `steps_per_execution` argument passed to the `compile()` method to improve performance.\n"
     ]
    }
   ],
   "source": [
    "with ipu.ipu_strategy.IPUStrategy(enable_dataset_iterators=False).scope():\n",
    "    unet_model = unet.build_model(channels=circles.channels,\n",
    "                                  num_classes=circles.classes,\n",
    "                                  layer_depth=3,\n",
    "                                  filters_root=16)\n",
    "    unet.finalize_model(unet_model)\n",
    "    \n",
    "    trainer = unet.Trainer(checkpoint_callback=False)    \n",
    "    trainer.fit(unet_model,\n",
    "                train_dataset,\n",
    "                validation_dataset,\n",
    "                epochs=5,\n",
    "                batch_size=1)"
   ]
  },
  {
   "cell_type": "code",
   "execution_count": null,
   "metadata": {},
   "outputs": [],
   "source": [
    "prediction = unet_model.predict(validation_dataset.batch(batch_size=3, drop_remainder=True))"
   ]
  },
  {
   "cell_type": "code",
   "execution_count": null,
   "metadata": {},
   "outputs": [],
   "source": [
    "fig, ax = plt.subplots(3, 3, sharex=True, sharey=True, figsize=(10,10))\n",
    "dataset = validation_dataset.map(utils.crop_image_and_label_to_shape(prediction.shape[1:]))\n",
    "\n",
    "for i, (image, label) in enumerate(dataset.take(3)):\n",
    "    ax[i][0].matshow(image[..., -1]); ax[i][0].set_title('Original Image'); ax[i][0].axis('off')\n",
    "    ax[i][1].matshow(np.argmax(label, axis=-1), cmap=plt.cm.gray); ax[i][1].set_title('Original Mask'); ax[i][1].axis('off')\n",
    "    ax[i][2].matshow(np.argmax(prediction[i,...], axis=-1), cmap=plt.cm.gray); ax[i][2].set_title('Predicted Mask'); ax[i][2].axis('off')\n",
    "plt.tight_layout()"
   ]
  },
  {
   "cell_type": "code",
   "execution_count": null,
   "metadata": {},
   "outputs": [],
   "source": []
  }
 ],
 "metadata": {
  "kernelspec": {
   "display_name": "Python 3",
   "language": "python",
   "name": "python3"
  },
  "language_info": {
   "codemirror_mode": {
    "name": "ipython",
    "version": 3
   },
   "file_extension": ".py",
   "mimetype": "text/x-python",
   "name": "python",
   "nbconvert_exporter": "python",
   "pygments_lexer": "ipython3",
   "version": "3.6.9"
  }
 },
 "nbformat": 4,
 "nbformat_minor": 4
}
